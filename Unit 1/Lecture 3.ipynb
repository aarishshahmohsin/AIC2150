{
 "cells": [
  {
   "cell_type": "code",
   "execution_count": 2,
   "metadata": {},
   "outputs": [
    {
     "name": "stdout",
     "output_type": "stream",
     "text": [
      "Collecting mglearn\n",
      "  Downloading mglearn-0.2.0-py2.py3-none-any.whl (581 kB)\n",
      "\u001b[K     |████████████████████████████████| 581 kB 382 kB/s eta 0:00:01\n",
      "\u001b[?25hRequirement already satisfied: pandas in /home/aarishsm/anaconda3/lib/python3.9/site-packages (from mglearn) (1.4.2)\n",
      "Requirement already satisfied: matplotlib in /home/aarishsm/anaconda3/lib/python3.9/site-packages (from mglearn) (3.5.1)\n",
      "Requirement already satisfied: imageio in /home/aarishsm/anaconda3/lib/python3.9/site-packages (from mglearn) (2.9.0)\n",
      "Requirement already satisfied: pillow in /home/aarishsm/anaconda3/lib/python3.9/site-packages (from mglearn) (9.0.1)\n",
      "Requirement already satisfied: joblib in /home/aarishsm/anaconda3/lib/python3.9/site-packages (from mglearn) (1.1.0)\n",
      "Requirement already satisfied: cycler in /home/aarishsm/anaconda3/lib/python3.9/site-packages (from mglearn) (0.11.0)\n",
      "Requirement already satisfied: scikit-learn in /home/aarishsm/anaconda3/lib/python3.9/site-packages (from mglearn) (1.0.2)\n",
      "Requirement already satisfied: numpy in /home/aarishsm/anaconda3/lib/python3.9/site-packages (from mglearn) (1.21.5)\n",
      "Requirement already satisfied: pyparsing>=2.2.1 in /home/aarishsm/anaconda3/lib/python3.9/site-packages (from matplotlib->mglearn) (3.0.4)\n",
      "Requirement already satisfied: fonttools>=4.22.0 in /home/aarishsm/anaconda3/lib/python3.9/site-packages (from matplotlib->mglearn) (4.25.0)\n",
      "Requirement already satisfied: packaging>=20.0 in /home/aarishsm/anaconda3/lib/python3.9/site-packages (from matplotlib->mglearn) (21.3)\n",
      "Requirement already satisfied: kiwisolver>=1.0.1 in /home/aarishsm/anaconda3/lib/python3.9/site-packages (from matplotlib->mglearn) (1.3.2)\n",
      "Requirement already satisfied: python-dateutil>=2.7 in /home/aarishsm/anaconda3/lib/python3.9/site-packages (from matplotlib->mglearn) (2.8.2)\n",
      "Requirement already satisfied: six>=1.5 in /home/aarishsm/anaconda3/lib/python3.9/site-packages (from python-dateutil>=2.7->matplotlib->mglearn) (1.16.0)\n",
      "Requirement already satisfied: pytz>=2020.1 in /home/aarishsm/anaconda3/lib/python3.9/site-packages (from pandas->mglearn) (2021.3)\n",
      "Requirement already satisfied: threadpoolctl>=2.0.0 in /home/aarishsm/anaconda3/lib/python3.9/site-packages (from scikit-learn->mglearn) (2.2.0)\n",
      "Requirement already satisfied: scipy>=1.1.0 in /home/aarishsm/anaconda3/lib/python3.9/site-packages (from scikit-learn->mglearn) (1.7.3)\n",
      "Installing collected packages: mglearn\n",
      "Successfully installed mglearn-0.2.0\n",
      "Note: you may need to restart the kernel to use updated packages.\n"
     ]
    }
   ],
   "source": [
    "pip install mglearn"
   ]
  },
  {
   "cell_type": "code",
   "execution_count": 5,
   "metadata": {},
   "outputs": [],
   "source": [
    "import mglearn\n",
    "%matplotlib inline\n",
    "\n",
    "import matplotlib.pyplot as plt\n",
    "from sklearn.neighbors import KNeighborsClassifier"
   ]
  },
  {
   "cell_type": "code",
   "execution_count": 7,
   "metadata": {},
   "outputs": [
    {
     "name": "stdout",
     "output_type": "stream",
     "text": [
      "x.shape: (26, 2)\n"
     ]
    },
    {
     "name": "stderr",
     "output_type": "stream",
     "text": [
      "/tmp/ipykernel_4170/2808020654.py:5: UserWarning: Legend does not support 'Class 0' instances.\n",
      "A proxy artist may be used instead.\n",
      "See: https://matplotlib.org/users/legend_guide.html#creating-artists-specifically-for-adding-to-the-legend-aka-proxy-artists\n",
      "  plt.legend([\"Class 0\"], [\"Class 1\"], loc=4)\n"
     ]
    },
    {
     "data": {
      "image/png": "[encoded data removed]",
      "text/plain": [
       "<Figure size 432x288 with 1 Axes>"
      ]
     },
     "metadata": {
      "needs_background": "light"
     },
     "output_type": "display_data"
    }
   ],
   "source": [
    "# generate dateset\n",
    "X, y = mglearn.datasets.make_forge()\n",
    "#plot dataset\n",
    "mglearn.discrete_scatter(X[:, 0], X[:, 1], y)\n",
    "plt.legend([\"Class 0\"], [\"Class 1\"], loc=4)\n",
    "plt.xlabel(\"First feature\")\n",
    "plt.ylabel(\"Second feature\")\n",
    "print(\"x.shape: {}\".format(X.shape))"
   ]
  },
  {
   "cell_type": "markdown",
   "metadata": {},
   "source": [
    "Forge synthesize dataset"
   ]
  },
  {
   "cell_type": "code",
   "execution_count": 11,
   "metadata": {},
   "outputs": [
    {
     "data": {
      "text/plain": [
       "<matplotlib.legend.Legend at 0x7f9c2923bac0>"
      ]
     },
     "execution_count": 11,
     "metadata": {},
     "output_type": "execute_result"
    },
    {
     "data": {
      "image/png": "[encoded data removed]",
      "text/plain": [
       "<Figure size 720x216 with 3 Axes>"
      ]
     },
     "metadata": {},
     "output_type": "display_data"
    }
   ],
   "source": [
    "fig, axes = plt.subplots(1, 3, figsize=(10, 3))\n",
    "for n_neighbors, ax in zip([1, 3, 9], axes):\n",
    "    clf = KNeighborsClassifier(n_neighbors=n_neighbors).fit(X, y)\n",
    "    mglearn.plots.plot_2d_separator(clf, X, fill=True, eps=0.5, ax=ax, alpha=0.4)\n",
    "    mglearn.discrete_scatter(X[:, 0],X[:, 1], y, ax=ax)\n",
    "    ax.set_title(\"{} neighbor(s)\".format(n_neighbors))\n",
    "    ax.set_xlabel(\"Feature 0\")\n",
    "    ax.set_ylabel(\"Feature 1\")\n",
    "axes[0].legend(loc=4)\n"
   ]
  },
  {
   "cell_type": "markdown",
   "metadata": {},
   "source": [
    "### IN case of KNN\n",
    "As the number of neighbors increaes model complexity decreases, more misclassification will occur\n",
    "when no of neighbors is low (=1) then model complexity is high"
   ]
  }
 ],
 "metadata": {
  "kernelspec": {
   "display_name": "base",
   "language": "python",
   "name": "python3"
  },
  "language_info": {
   "codemirror_mode": {
    "name": "ipython",
    "version": 3
   },
   "file_extension": ".py",
   "mimetype": "text/x-python",
   "name": "python",
   "nbconvert_exporter": "python",
   "pygments_lexer": "ipython3",
   "version": "3.9.12"
  }
 },
 "nbformat": 4,
 "nbformat_minor": 2
}
