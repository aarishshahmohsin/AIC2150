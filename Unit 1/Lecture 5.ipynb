{
 "cells": [
  {
   "cell_type": "code",
   "execution_count": 1,
   "metadata": {},
   "outputs": [
    {
     "name": "stdout",
     "output_type": "stream",
     "text": [
      "Requirement already satisfied: mglearn in /home/aarish/anaconda3/lib/python3.9/site-packages (0.2.0)\n",
      "Requirement already satisfied: pillow in /home/aarish/anaconda3/lib/python3.9/site-packages (from mglearn) (9.0.1)\n",
      "Requirement already satisfied: cycler in /home/aarish/anaconda3/lib/python3.9/site-packages (from mglearn) (0.11.0)\n",
      "Requirement already satisfied: scikit-learn in /home/aarish/anaconda3/lib/python3.9/site-packages (from mglearn) (1.0.2)\n",
      "Requirement already satisfied: joblib in /home/aarish/anaconda3/lib/python3.9/site-packages (from mglearn) (1.1.0)\n",
      "Requirement already satisfied: numpy in /home/aarish/anaconda3/lib/python3.9/site-packages (from mglearn) (1.21.5)\n",
      "Requirement already satisfied: imageio in /home/aarish/anaconda3/lib/python3.9/site-packages (from mglearn) (2.9.0)\n",
      "Requirement already satisfied: pandas in /home/aarish/anaconda3/lib/python3.9/site-packages (from mglearn) (1.4.2)\n",
      "Requirement already satisfied: matplotlib in /home/aarish/anaconda3/lib/python3.9/site-packages (from mglearn) (3.5.1)\n",
      "Requirement already satisfied: packaging>=20.0 in /home/aarish/anaconda3/lib/python3.9/site-packages (from matplotlib->mglearn) (21.3)\n",
      "Requirement already satisfied: kiwisolver>=1.0.1 in /home/aarish/anaconda3/lib/python3.9/site-packages (from matplotlib->mglearn) (1.3.2)\n",
      "Requirement already satisfied: fonttools>=4.22.0 in /home/aarish/anaconda3/lib/python3.9/site-packages (from matplotlib->mglearn) (4.25.0)\n",
      "Requirement already satisfied: pyparsing>=2.2.1 in /home/aarish/anaconda3/lib/python3.9/site-packages (from matplotlib->mglearn) (3.0.4)\n",
      "Requirement already satisfied: python-dateutil>=2.7 in /home/aarish/anaconda3/lib/python3.9/site-packages (from matplotlib->mglearn) (2.8.2)\n",
      "Requirement already satisfied: six>=1.5 in /home/aarish/anaconda3/lib/python3.9/site-packages (from python-dateutil>=2.7->matplotlib->mglearn) (1.16.0)\n",
      "Requirement already satisfied: pytz>=2020.1 in /home/aarish/anaconda3/lib/python3.9/site-packages (from pandas->mglearn) (2021.3)\n",
      "Requirement already satisfied: threadpoolctl>=2.0.0 in /home/aarish/anaconda3/lib/python3.9/site-packages (from scikit-learn->mglearn) (2.2.0)\n",
      "Requirement already satisfied: scipy>=1.1.0 in /home/aarish/anaconda3/lib/python3.9/site-packages (from scikit-learn->mglearn) (1.7.3)\n",
      "Note: you may need to restart the kernel to use updated packages.\n"
     ]
    }
   ],
   "source": [
    "pip install mglearn"
   ]
  },
  {
   "cell_type": "code",
   "execution_count": 5,
   "metadata": {},
   "outputs": [],
   "source": [
    "import mglearn\n",
    "\n",
    "%matplotlib inline\n",
    "import matplotlib.pyplot as plt\n",
    "from sklearn.model_selection import train_test_split\n",
    "from sklearn.linear_model import LinearRegression\n",
    "\n",
    "X, y = mglearn.datasets.make_wave(n_samples = 60)\n",
    "X_train, X_test, y_train, y_test = train_test_split(X, y, random_state=42)\n",
    "lr = LinearRegression().fit(X_train, y_train)\n"
   ]
  },
  {
   "cell_type": "code",
   "execution_count": 3,
   "metadata": {},
   "outputs": [
    {
     "name": "stdout",
     "output_type": "stream",
     "text": [
      "dataset size:  (60, 1)\n",
      "dataset label:  (60,)\n",
      "test dataset size:  (15, 1)\n",
      "test dataset label:  (15,)\n"
     ]
    }
   ],
   "source": [
    "print(\"dataset size: \", format(X.shape))\n",
    "print(\"dataset label: \", format(y.shape))\n",
    "print(\"test dataset size: \", format(X_test.shape))\n",
    "print(\"test dataset label: \", format(y_test.shape))"
   ]
  },
  {
   "cell_type": "code",
   "execution_count": 4,
   "metadata": {},
   "outputs": [
    {
     "name": "stdout",
     "output_type": "stream",
     "text": [
      "lr.coef [0.39390555]\n",
      "lr.intercept -0.031804343026759746\n"
     ]
    }
   ],
   "source": [
    "print(\"lr.coef {}\".format(lr.coef_))\n",
    "print(\"lr.intercept {}\".format(lr.intercept_))"
   ]
  },
  {
   "cell_type": "code",
   "execution_count": 7,
   "metadata": {},
   "outputs": [
    {
     "name": "stdout",
     "output_type": "stream",
     "text": [
      "Training set score 0.67\n",
      "Test set score 0.66\n"
     ]
    }
   ],
   "source": [
    "print(\"Training set score {:.2f}\".format(lr.score(X_train, y_train)))\n",
    "print(\"Test set score {:.2f}\".format(lr.score(X_test, y_test)))"
   ]
  }
 ],
 "metadata": {
  "kernelspec": {
   "display_name": "base",
   "language": "python",
   "name": "python3"
  },
  "language_info": {
   "codemirror_mode": {
    "name": "ipython",
    "version": 3
   },
   "file_extension": ".py",
   "mimetype": "text/x-python",
   "name": "python",
   "nbconvert_exporter": "python",
   "pygments_lexer": "ipython3",
   "version": "3.9.12"
  }
 },
 "nbformat": 4,
 "nbformat_minor": 2
}
